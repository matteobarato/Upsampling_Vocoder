!pip install wavenet_vocoder

# python preprocess.py ${dataset_name} ${dataset_path} ${out_dir} --preset=<json>!
# Run one to create dataset/ljspeech
!cd wavenet_vocoder && python preprocess.py ljspeech "/root/dataset/LJSpeech-1.1" "/root/dataset/ljspeech" --preset=/root/data/20180510_mixture_lj_checkpoint_step000320000_ema.json --hparams="sample_rate=22050"
